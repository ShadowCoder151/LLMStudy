{
 "cells": [
  {
   "cell_type": "code",
   "execution_count": 1,
   "metadata": {},
   "outputs": [],
   "source": [
    "import pandas as pd"
   ]
  },
  {
   "cell_type": "code",
   "execution_count": 2,
   "metadata": {},
   "outputs": [],
   "source": [
    "def basic_tokenizer(sentence:str):\n",
    "    return list(sentence)\n"
   ]
  },
  {
   "cell_type": "code",
   "execution_count": 3,
   "metadata": {},
   "outputs": [],
   "source": [
    "def lower_tokenizer(sentence:str):\n",
    "    return list(sentence.lower())"
   ]
  },
  {
   "cell_type": "code",
   "execution_count": 4,
   "metadata": {},
   "outputs": [],
   "source": [
    "def alphanum_tokenizer(sentence:str):\n",
    "    condition = lambda w: (ord('A') <= ord(w) <= ord('Z')) or (ord('a') <= ord(w) <= ord('z')) or (ord('0') <= ord(w) <= ord('9'))\n",
    "    return [w for w in sentence if condition(w)]"
   ]
  },
  {
   "cell_type": "code",
   "execution_count": 5,
   "metadata": {},
   "outputs": [],
   "source": [
    "def unicode_tokenizer(sentence:str):\n",
    "    return [w for w in sentence.encode('utf-8')]\n"
   ]
  },
  {
   "cell_type": "code",
   "execution_count": 6,
   "metadata": {},
   "outputs": [],
   "source": [
    "bt = basic_tokenizer\n",
    "lt = lower_tokenizer\n",
    "aln = alphanum_tokenizer\n",
    "ut = unicode_tokenizer\n"
   ]
  },
  {
   "cell_type": "code",
   "execution_count": 14,
   "metadata": {},
   "outputs": [],
   "source": [
    "def display_results(S:list, function):\n",
    "    for s in S:\n",
    "        print(function(s))"
   ]
  },
  {
   "cell_type": "code",
   "execution_count": 8,
   "metadata": {},
   "outputs": [],
   "source": [
    "df = pd.read_csv('E:\\\\LLM\\\\data\\\\eng_sentences.tsv', delimiter='\\t')"
   ]
  },
  {
   "cell_type": "code",
   "execution_count": 12,
   "metadata": {},
   "outputs": [],
   "source": [
    "S = list(df.iloc[:5, 2])"
   ]
  },
  {
   "cell_type": "code",
   "execution_count": 18,
   "metadata": {},
   "outputs": [
    {
     "name": "stdout",
     "output_type": "stream",
     "text": [
      "[73, 32, 104, 97, 118, 101, 32, 116, 111, 32, 103, 111, 32, 116, 111, 32, 115, 108, 101, 101, 112, 46]\n",
      "[84, 111, 100, 97, 121, 32, 105, 115, 32, 74, 117, 110, 101, 32, 49, 56, 116, 104, 32, 97, 110, 100, 32, 105, 116, 32, 105, 115, 32, 77, 117, 105, 114, 105, 101, 108, 39, 115, 32, 98, 105, 114, 116, 104, 100, 97, 121, 33]\n",
      "[77, 117, 105, 114, 105, 101, 108, 32, 105, 115, 32, 50, 48, 32, 110, 111, 119, 46]\n",
      "[84, 104, 101, 32, 112, 97, 115, 115, 119, 111, 114, 100, 32, 105, 115, 32, 34, 77, 117, 105, 114, 105, 101, 108, 34, 46]\n",
      "[73, 32, 119, 105, 108, 108, 32, 98, 101, 32, 98, 97, 99, 107, 32, 115, 111, 111, 110, 46]\n"
     ]
    }
   ],
   "source": [
    "display_results(S, ut)"
   ]
  },
  {
   "cell_type": "code",
   "execution_count": null,
   "metadata": {},
   "outputs": [],
   "source": []
  }
 ],
 "metadata": {
  "kernelspec": {
   "display_name": ".venv",
   "language": "python",
   "name": "python3"
  },
  "language_info": {
   "codemirror_mode": {
    "name": "ipython",
    "version": 3
   },
   "file_extension": ".py",
   "mimetype": "text/x-python",
   "name": "python",
   "nbconvert_exporter": "python",
   "pygments_lexer": "ipython3",
   "version": "3.12.7"
  }
 },
 "nbformat": 4,
 "nbformat_minor": 2
}
