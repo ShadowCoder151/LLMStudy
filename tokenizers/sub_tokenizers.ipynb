{
 "cells": [
  {
   "cell_type": "code",
   "execution_count": 14,
   "metadata": {},
   "outputs": [],
   "source": [
    "filename = \"E:\\\\LLM\\\\data\\\\eng_sentences.tsv\""
   ]
  },
  {
   "cell_type": "code",
   "execution_count": 3,
   "metadata": {},
   "outputs": [],
   "source": [
    "import pandas as pd"
   ]
  },
  {
   "cell_type": "code",
   "execution_count": 89,
   "metadata": {},
   "outputs": [],
   "source": [
    "def BPE(corpus: list, loops:int):\n",
    "    text = ' '.join(corpus)\n",
    "    tokens = list(text)\n",
    "    \n",
    "    for _ in range(loops):\n",
    "        H = {}\n",
    "        for i in range(len(tokens) - 1):\n",
    "            pair = (tokens[i], tokens[i + 1])\n",
    "            H[pair] = H.get(pair, 0) + 1\n",
    "        \n",
    "        if not H:\n",
    "            break\n",
    "        \n",
    "        max_pair = max(H, key=H.get)\n",
    "        if H[max_pair] < 2:\n",
    "            break\n",
    "        \n",
    "        nt = max_pair[0] + max_pair[1]\n",
    "        \n",
    "        new_tokens = []\n",
    "        i = 0\n",
    "        while i < len(tokens):\n",
    "            if i + 1 < len(tokens) and tokens[i] == max_pair[0] and tokens[i + 1] == max_pair[1]:\n",
    "                new_tokens.append(nt)\n",
    "                i += 2\n",
    "            else:\n",
    "                new_tokens.append(tokens[i])\n",
    "                i += 1\n",
    "        \n",
    "        tokens = new_tokens\n",
    "    \n",
    "    return tokens"
   ]
  },
  {
   "cell_type": "code",
   "execution_count": 76,
   "metadata": {},
   "outputs": [],
   "source": [
    "df = pd.read_csv(filename, delimiter='\\t')"
   ]
  },
  {
   "cell_type": "code",
   "execution_count": 77,
   "metadata": {},
   "outputs": [
    {
     "data": {
      "text/plain": [
       "['I have to go to sleep.',\n",
       " \"Today is June 18th and it is Muiriel's birthday!\",\n",
       " 'Muiriel is 20 now.',\n",
       " 'The password is \"Muiriel\".',\n",
       " 'I will be back soon.',\n",
       " \"I'm at a loss for words.\",\n",
       " 'This is never going to end.',\n",
       " \"I just don't know what to say.\",\n",
       " 'That was an evil bunny.',\n",
       " 'I was in the mountains.']"
      ]
     },
     "execution_count": 77,
     "metadata": {},
     "output_type": "execute_result"
    }
   ],
   "source": [
    "S = list(df.iloc[:10, 2])\n",
    "S"
   ]
  },
  {
   "cell_type": "code",
   "execution_count": 94,
   "metadata": {},
   "outputs": [
    {
     "data": {
      "text/plain": [
       "143"
      ]
     },
     "execution_count": 94,
     "metadata": {},
     "output_type": "execute_result"
    }
   ],
   "source": [
    "len(BPE(S, 100))"
   ]
  },
  {
   "cell_type": "code",
   "execution_count": null,
   "metadata": {},
   "outputs": [],
   "source": []
  },
  {
   "cell_type": "code",
   "execution_count": null,
   "metadata": {},
   "outputs": [],
   "source": []
  }
 ],
 "metadata": {
  "kernelspec": {
   "display_name": ".venv",
   "language": "python",
   "name": "python3"
  },
  "language_info": {
   "codemirror_mode": {
    "name": "ipython",
    "version": 3
   },
   "file_extension": ".py",
   "mimetype": "text/x-python",
   "name": "python",
   "nbconvert_exporter": "python",
   "pygments_lexer": "ipython3",
   "version": "3.12.7"
  }
 },
 "nbformat": 4,
 "nbformat_minor": 2
}
